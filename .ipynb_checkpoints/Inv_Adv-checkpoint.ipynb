{
 "cells": [
  {
   "cell_type": "code",
   "execution_count": 1,
   "metadata": {},
   "outputs": [],
   "source": [
    "from Client import Client\n",
    "from Enterprise import Enterprise\n",
    "from Article import Article\n",
    "from random import normalvariate\n",
    "from random import choices"
   ]
  },
  {
   "cell_type": "code",
   "execution_count": 2,
   "metadata": {},
   "outputs": [],
   "source": [
    "enterprises = [Enterprise(\"AAA\", 1, [0]), \n",
    "               Enterprise(\"BBB\", 1, [0]), \n",
    "               Enterprise(\"CCC\", 1, [0]),\n",
    "               Enterprise(\"DDD\", 1, [0]),\n",
    "               Enterprise(\"EEE\", 1, [0]),\n",
    "               Enterprise(\"FFF\", 1, [0]),\n",
    "               Enterprise(\"GGG\", 1, [0]),\n",
    "               Enterprise(\"HHH\", 1, [0]),\n",
    "               Enterprise(\"III\", 1, [0]),\n",
    "               Enterprise(\"JJJ\", 1, [0])\n",
    "]"
   ]
  },
  {
   "cell_type": "code",
   "execution_count": 43,
   "metadata": {},
   "outputs": [],
   "source": [
    "def new_article():\n",
    "    ent = choices(enterprises)\n",
    "    news = round(normalvariate(0,1), 4)\n",
    "    ent[0].rate += news\n",
    "    ent[0].risk.append(news)\n",
    "    return news\n",
    "\n",
    "def news_class(new):\n",
    "    if (new > -0.5 and new < 0.5):\n",
    "        return 0\n",
    "    if (new > -1 and new < 1):\n",
    "        if (new > 0)\n",
    "            return 1\n",
    "        else return -1\n",
    "    if (new > -1.5 and new < 1.5):\n",
    "        if (new > 0)\n",
    "            return 2\n",
    "        else return -2\n",
    "    if (new > 0)\n",
    "        return 3\n",
    "    else return -3\n",
    "    return 3\n",
    "    \n",
    "def print_enter():\n",
    "    for i in range(len(enterprises)):\n",
    "        print('Empresa: {}\\nNota: {}\\nMédia: {}\\nNivel de Risco:{}\\n-----'.format(\n",
    "            enterprises[i].name, \n",
    "            enterprises[i].rate, \n",
    "            enterprises[i].mean_risk(), \n",
    "            enterprises[i].risk_lvl()))"
   ]
  },
  {
   "cell_type": "code",
   "execution_count": 80,
   "metadata": {},
   "outputs": [
    {
     "name": "stdout",
     "output_type": "stream",
     "text": [
      "1.5875\n",
      "3\n"
     ]
    }
   ],
   "source": [
    "new = round(normalvariate(0,1), 4)\n",
    "print(new)\n",
    "print(news_class(new))\n"
   ]
  },
  {
   "cell_type": "code",
   "execution_count": 6,
   "metadata": {},
   "outputs": [],
   "source": [
    "for i in range(100):\n",
    "    new_article()"
   ]
  },
  {
   "cell_type": "code",
   "execution_count": 7,
   "metadata": {},
   "outputs": [
    {
     "name": "stdout",
     "output_type": "stream",
     "text": [
      "Empresa: AAA\n",
      "Nota: 0.024100000000000343\n",
      "Média: 0.039\n",
      "Nivel de Risco:1\n",
      "-----\n",
      "Empresa: BBB\n",
      "Nota: -5.886400000000001\n",
      "Média: 0.2551\n",
      "Nivel de Risco:3\n",
      "-----\n",
      "Empresa: CCC\n",
      "Nota: -3.255800000000001\n",
      "Média: 0.2364\n",
      "Nivel de Risco:2\n",
      "-----\n",
      "Empresa: DDD\n",
      "Nota: -2.1204999999999994\n",
      "Média: 0.1114\n",
      "Nivel de Risco:2\n",
      "-----\n",
      "Empresa: EEE\n",
      "Nota: -8.7898\n",
      "Média: 0.3765\n",
      "Nivel de Risco:3\n",
      "-----\n",
      "Empresa: FFF\n",
      "Nota: -7.1332\n",
      "Média: 0.6256\n",
      "Nivel de Risco:3\n",
      "-----\n",
      "Empresa: GGG\n",
      "Nota: -0.6693000000000009\n",
      "Média: 0.0835\n",
      "Nivel de Risco:1\n",
      "-----\n",
      "Empresa: HHH\n",
      "Nota: 3.876599999999999\n",
      "Média: 0.1598\n",
      "Nivel de Risco:2\n",
      "-----\n",
      "Empresa: III\n",
      "Nota: 4.4388000000000005\n",
      "Média: 0.2866\n",
      "Nivel de Risco:3\n",
      "-----\n",
      "Empresa: JJJ\n",
      "Nota: -2.4045999999999994\n",
      "Média: 0.148\n",
      "Nivel de Risco:2\n",
      "-----\n",
      "None\n"
     ]
    }
   ],
   "source": [
    "print(print_enter())"
   ]
  },
  {
   "cell_type": "code",
   "execution_count": 17,
   "metadata": {},
   "outputs": [],
   "source": [
    "clients = [Client(\"Sergio\", 2),\n",
    "           Client(\"Joao\", 1),\n",
    "           Client(\"Maria\", 3),\n",
    "           Client(\"Jose\", 1),\n",
    "           Client(\"Thiago\", 3),\n",
    "           Client(\"Luana\", 2),\n",
    "           Client(\"Gabriela\", 1)\n",
    "]"
   ]
  },
  {
   "cell_type": "code",
   "execution_count": null,
   "metadata": {},
   "outputs": [],
   "source": [
    "dataset = [\n",
    "    [1, 1, 1]\n",
    "]"
   ]
  }
 ],
 "metadata": {
  "kernelspec": {
   "display_name": "Python 3",
   "language": "python",
   "name": "python3"
  },
  "language_info": {
   "codemirror_mode": {
    "name": "ipython",
    "version": 3
   },
   "file_extension": ".py",
   "mimetype": "text/x-python",
   "name": "python",
   "nbconvert_exporter": "python",
   "pygments_lexer": "ipython3",
   "version": "3.6.4"
  }
 },
 "nbformat": 4,
 "nbformat_minor": 2
}
